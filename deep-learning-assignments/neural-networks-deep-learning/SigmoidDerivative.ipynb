{
 "cells": [
  {
   "cell_type": "markdown",
   "metadata": {},
   "source": [
    "### Derivative of Sigmoid Function"
   ]
  },
  {
   "cell_type": "code",
   "execution_count": 30,
   "metadata": {},
   "outputs": [
    {
     "data": {
      "text/latex": [
       "\n",
       "\\begin{align*}\n",
       "g(z) = \\frac{1} {(1 + e^{-z})}\n",
       "\\\\\n",
       "\\frac{d(g(z))} {dz} = \\frac{e^{-z}}{(1 + e^{-z})^2}\n",
       "= \\frac{e^{-z}}{(1 + e^{-z})} \\cdot \\frac {1}{(1 + e^{-z})}\n",
       "\\\\\n",
       "= \\frac{1 + e^{-z} - 1}{(1 + e^{-z})} \\cdot g(z)\n",
       "\\\\\n",
       "= \\left (1 - \\frac{1}{(1 + e^{-z})} \\right ) \\cdot g(z)\n",
       "\\\\\n",
       "=( 1 - g(z)) \\cdot g(z)\n",
       "\\end{align*}"
      ],
      "text/plain": [
       "<IPython.core.display.Latex object>"
      ]
     },
     "metadata": {},
     "output_type": "display_data"
    }
   ],
   "source": [
    "%%latex\n",
    "\n",
    "\\begin{align*}\n",
    "g(z) = \\frac{1} {(1 + e^{-z})}\n",
    "\\\\\n",
    "\\frac{d(g(z))} {dz} = \\frac{e^{-z}}{(1 + e^{-z})^2}\n",
    "= \\frac{e^{-z}}{(1 + e^{-z})} \\cdot \\frac {1}{(1 + e^{-z})}\n",
    "\\\\\n",
    "= \\frac{1 + e^{-z} - 1}{(1 + e^{-z})} \\cdot g(z)\n",
    "\\\\\n",
    "= \\left (1 - \\frac{1}{(1 + e^{-z})} \\right ) \\cdot g(z)\n",
    "\\\\\n",
    "=( 1 - g(z)) \\cdot g(z)\n",
    "\\end{align*}"
   ]
  },
  {
   "cell_type": "markdown",
   "metadata": {},
   "source": [
    "### Derivative of Tanh Function"
   ]
  },
  {
   "cell_type": "code",
   "execution_count": 50,
   "metadata": {},
   "outputs": [
    {
     "data": {
      "text/latex": [
       "\n",
       "\\begin{align*}\n",
       "g(z) = \\frac{e^{z} - e^{-z}} {(e^{z} + e^{-z})}\n",
       "\\\\\n",
       "\\frac{d(g(z))} {dz} = (e^{z} - e^{-z}) \\cdot \\frac{d}{dz} \\left( \\frac{1}{(e^{z} + e^{-z})} \\right)\n",
       "+  \\left( \\frac{1}{(e^{z} + e^{-z})} \\right) \\cdot \\frac{d}{dz} (e^{z} - e^{-z})\n",
       "\\\\\n",
       "\\left( \\frac{1}{(e^{z} + e^{-z})} \\right) \\cdot \\frac{d}{dz} (e^{z} - e^{-z})\n",
       "= \\left( \\frac{1}{(e^{z} + e^{-z})} \\right) \\cdot (e^{z} + e^{-z}) = 1\n",
       "\\\\\n",
       "\\frac{d}{dz} \\left( \\frac{1}{(e^{z} + e^{-z})} \\right) = -1 \\cdot \\left( e^{z} + e^{-z}\\right)^{-2} \n",
       "\\cdot \\frac{d}{dz} \\left( e^{z} + e^{-z}\\right)\n",
       "\\\\\n",
       "= \\frac {-1}{\\left( e^{z} + e^{-z}\\right)^{2}} \\cdot \\left( e^{z} - e^{-z} \\right)\n",
       "\\\\\n",
       "(e^{z} - e^{-z}) \\cdot \\frac{d}{dz} \\left( \\frac{1}{(e^{z} + e^{-z})} \\right) = \n",
       "\\frac {-1}{\\left( e^{z} + e^{-z}\\right)^{2}} \\cdot \\left( e^{z} - e^{-z} \\right) \\cdot (e^{z} - e^{-z})\n",
       "\\\\\n",
       "= - \\frac {\\left( e^{z} - e^{-z} \\right)^2}{\\left( e^{z} + e^{-z}\\right)^{2}}\n",
       "\\\\\n",
       "\\frac{d(g(z))} {dz} = 1 - \\frac {\\left( e^{z} - e^{-z} \\right)^2}{\\left( e^{z} + e^{-z}\\right)^{2}}\n",
       "\\\\\n",
       "= 1 - (g(z))^2\n",
       "\\end{align*}"
      ],
      "text/plain": [
       "<IPython.core.display.Latex object>"
      ]
     },
     "metadata": {},
     "output_type": "display_data"
    }
   ],
   "source": [
    "%%latex\n",
    "\n",
    "\\begin{align*}\n",
    "g(z) = \\frac{e^{z} - e^{-z}} {(e^{z} + e^{-z})}\n",
    "\\\\\n",
    "\\frac{d(g(z))} {dz} = (e^{z} - e^{-z}) \\cdot \\frac{d}{dz} \\left( \\frac{1}{(e^{z} + e^{-z})} \\right)\n",
    "+  \\left( \\frac{1}{(e^{z} + e^{-z})} \\right) \\cdot \\frac{d}{dz} (e^{z} - e^{-z})\n",
    "\\\\\n",
    "\\left( \\frac{1}{(e^{z} + e^{-z})} \\right) \\cdot \\frac{d}{dz} (e^{z} - e^{-z})\n",
    "= \\left( \\frac{1}{(e^{z} + e^{-z})} \\right) \\cdot (e^{z} + e^{-z}) = 1\n",
    "\\\\\n",
    "\\frac{d}{dz} \\left( \\frac{1}{(e^{z} + e^{-z})} \\right) = -1 \\cdot \\left( e^{z} + e^{-z}\\right)^{-2} \n",
    "\\cdot \\frac{d}{dz} \\left( e^{z} + e^{-z}\\right)\n",
    "\\\\\n",
    "= \\frac {-1}{\\left( e^{z} + e^{-z}\\right)^{2}} \\cdot \\left( e^{z} - e^{-z} \\right)\n",
    "\\\\\n",
    "(e^{z} - e^{-z}) \\cdot \\frac{d}{dz} \\left( \\frac{1}{(e^{z} + e^{-z})} \\right) = \n",
    "\\frac {-1}{\\left( e^{z} + e^{-z}\\right)^{2}} \\cdot \\left( e^{z} - e^{-z} \\right) \\cdot (e^{z} - e^{-z})\n",
    "\\\\\n",
    "= - \\frac {\\left( e^{z} - e^{-z} \\right)^2}{\\left( e^{z} + e^{-z}\\right)^{2}}\n",
    "\\\\\n",
    "\\frac{d(g(z))} {dz} = 1 - \\frac {\\left( e^{z} - e^{-z} \\right)^2}{\\left( e^{z} + e^{-z}\\right)^{2}}\n",
    "\\\\\n",
    "= 1 - (g(z))^2\n",
    "\\end{align*}"
   ]
  },
  {
   "cell_type": "markdown",
   "metadata": {},
   "source": [
    "### Derivative of Logistic Regression Cost Function"
   ]
  },
  {
   "cell_type": "code",
   "execution_count": 83,
   "metadata": {},
   "outputs": [
    {
     "data": {
      "text/latex": [
       "\\begin{align*}\n",
       "L (a, y)= -y \\cdot log(a) - (1 - y) \\cdot log (1 - a)\n",
       "\\\\\n",
       "\\frac {\\partial L} {\\partial a} = -\\frac {y}{a} + \\frac {1- y}{1-a}\n",
       "\\\\\n",
       "\\frac {\\partial a} {\\partial z} = \\frac {\\partial g(z)} {\\partial z} = g'(z) \n",
       "\\\\\n",
       "= g(z) (1 - g(z)) = a(1 - a)\n",
       "\\\\\n",
       "\\frac {\\partial L} {\\partial z}  = \\frac{\\partial L} {\\partial a} \\cdot \\frac{\\partial a} {\\partial z}\n",
       "\\\\\n",
       "= \\left(-\\frac {y}{a} + \\frac {1- y}{1-a}\\right) \\cdot \\left( a (1-a) \\right)\n",
       "\\\\\n",
       "= -y (1-a) + a(1- y) =a -y \n",
       "\\end{align*}"
      ],
      "text/plain": [
       "<IPython.core.display.Latex object>"
      ]
     },
     "metadata": {},
     "output_type": "display_data"
    }
   ],
   "source": [
    "%%latex\n",
    "\\begin{align*}\n",
    "L (a, y)= -y \\cdot log(a) - (1 - y) \\cdot log (1 - a)\n",
    "\\\\\n",
    "\\frac {\\partial L} {\\partial a} = -\\frac {y}{a} + \\frac {1- y}{1-a}\n",
    "\\\\\n",
    "\\frac {\\partial a} {\\partial z} = \\frac {\\partial g(z)} {\\partial z} = g'(z) \n",
    "\\\\\n",
    "= g(z) (1 - g(z)) = a(1 - a)\n",
    "\\\\\n",
    "\\frac {\\partial L} {\\partial z}  = \\frac{\\partial L} {\\partial a} \\cdot \\frac{\\partial a} {\\partial z}\n",
    "\\\\\n",
    "= \\left(-\\frac {y}{a} + \\frac {1- y}{1-a}\\right) \\cdot \\left( a (1-a) \\right)\n",
    "\\\\\n",
    "= -y (1-a) + a(1- y) =a -y \n",
    "\\end{align*}"
   ]
  },
  {
   "cell_type": "code",
   "execution_count": null,
   "metadata": {
    "collapsed": true
   },
   "outputs": [],
   "source": []
  }
 ],
 "metadata": {
  "kernelspec": {
   "display_name": "Python 3",
   "language": "python",
   "name": "python3"
  },
  "language_info": {
   "codemirror_mode": {
    "name": "ipython",
    "version": 3
   },
   "file_extension": ".py",
   "mimetype": "text/x-python",
   "name": "python",
   "nbconvert_exporter": "python",
   "pygments_lexer": "ipython3",
   "version": "3.6.2"
  }
 },
 "nbformat": 4,
 "nbformat_minor": 2
}
